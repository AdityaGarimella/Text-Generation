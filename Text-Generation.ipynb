{
 "cells": [
  {
   "cell_type": "code",
   "execution_count": 1,
   "metadata": {},
   "outputs": [
    {
     "data": {
      "text/html": [
       "<style>.container { width:100% !important; }</style>"
      ],
      "text/plain": [
       "<IPython.core.display.HTML object>"
      ]
     },
     "metadata": {},
     "output_type": "display_data"
    }
   ],
   "source": [
    "from IPython.core.display import display, HTML\n",
    "display(HTML(\"<style>.container { width:100% !important; }</style>\"))"
   ]
  },
  {
   "cell_type": "code",
   "execution_count": 68,
   "metadata": {},
   "outputs": [],
   "source": [
    "import glob\n",
    "import string, os\n",
    "import numpy as np\n",
    "import pandas as pd \n",
    "import keras.utils as ku\n",
    "from numpy.random import seed\n",
    "from keras.models import Sequential\n",
    "from tensorflow import set_random_seed\n",
    "from keras.callbacks import EarlyStopping\n",
    "from keras.preprocessing.text import Tokenizer\n",
    "from keras.preprocessing.sequence import pad_sequences\n",
    "from keras.layers import Embedding, LSTM, Dense, Dropout"
   ]
  },
  {
   "cell_type": "code",
   "execution_count": 3,
   "metadata": {},
   "outputs": [],
   "source": [
    "data = \"\"\"The cat and her kittens\n",
    "They put on their mittens,\n",
    "To eat a Christmas pie.\n",
    "The poor little kittens\n",
    "They lost their mittens,\n",
    "And then they began to cry.\n",
    "O mother dear, we sadly fear\n",
    "We cannot go to-day,\n",
    "For we have lost our mittens.\"\n",
    "\"If it be so, ye shall not go,\n",
    "For ye are naughty kittens.\"\"\""
   ]
  },
  {
   "cell_type": "code",
   "execution_count": null,
   "metadata": {},
   "outputs": [],
   "source": [
    "tokenizer = Tokenizer()"
   ]
  },
  {
   "cell_type": "code",
   "execution_count": 1,
   "metadata": {},
   "outputs": [],
   "source": [
    "def dataset_preparation(data):\n",
    "    corpus = data.lower().split(\"\\n\")\n",
    "    tokenizer.fit_on_texts(corpus)\n",
    "    total_words = len(tokenizer.word_index) + 1 \n",
    "    input_sequences = []\n",
    "    for line in corpus:\n",
    "#         print(line)\n",
    "        token_list = tokenizer.texts_to_sequences([line])[0]\n",
    "#         print(token_list)\n",
    "        for i in range(1, len(token_list)):\n",
    "            n_gram_sequence = token_list[:i+1]\n",
    "#             print(\"Ngram\",n_gram_sequence)\n",
    "            input_sequences.append(n_gram_sequence)\n",
    "#     print(\"Input_Sequence\",input_sequences)\n",
    "    max_sequence_len = max([len(x) for x in input_sequences])\n",
    "#     print(max_sequence_len)\n",
    "    input_sequences = np.array(pad_sequences(input_sequences,   \n",
    "                          maxlen=max_sequence_len, padding='pre'))\n",
    "#     print(input_sequences)\n",
    "#     print(\"\\n\")\n",
    "#     print(\"\\n\")\n",
    "    predictors, label = input_sequences[:,:-1],input_sequences[:,-1]\n",
    "#     print(\"Predictors\",predictors)\n",
    "#     print(\"Labels\",label)\n",
    "    label = ku.to_categorical(label, num_classes=total_words)\n",
    "#     print(\"Transformed_Labels\",label)\n",
    "    return predictors,label,max_sequence_len,total_words\n",
    "\n",
    "def create_model(predictors, label, max_sequence_len, total_words):\n",
    "    input_len = max_sequence_len - 1\n",
    "\n",
    "    model = Sequential()\n",
    "    model.add(Embedding(total_words, 10, input_length=input_len))\n",
    "    model.add(LSTM(150))\n",
    "    model.add(Dropout(0.1))\n",
    "    model.add(Dense(total_words, activation='softmax'))\n",
    "\n",
    "    model.compile(loss='categorical_crossentropy', optimizer='adam')\n",
    "    model.fit(predictors, label, epochs=100, verbose=1)\n",
    "    return model\n",
    "\n",
    "def generate_text(seed_text, next_words, max_sequence_len, model):\n",
    "    for j in range(next_words):\n",
    "        print(j)\n",
    "        token_list = tokenizer.texts_to_sequences([seed_text])[0]\n",
    "        print(token_list)\n",
    "        token_list = pad_sequences([token_list], maxlen=max_sequence_len-1, padding='pre')\n",
    "        print(token_list)\n",
    "        predicted = model.predict_classes(token_list, verbose=0)\n",
    "        print(predicted)\n",
    "  \n",
    "        output_word = \"\"\n",
    "        for word, index in tokenizer.word_index.items():\n",
    "            if index == predicted:\n",
    "                output_word = word\n",
    "                print(\"Word\",word)\n",
    "                print(\"Index\",index)\n",
    "                break\n",
    "        seed_text += \" \" + output_word\n",
    "    return seed_text"
   ]
  },
  {
   "cell_type": "code",
   "execution_count": 106,
   "metadata": {},
   "outputs": [
    {
     "name": "stdout",
     "output_type": "stream",
     "text": [
      "0\n",
      "[5, 42]\n",
      "[[ 0  0  0  0  0  5 42]]\n",
      "[10]\n",
      "Word go\n",
      "Index 10\n",
      "1\n",
      "[5, 42, 10]\n",
      "[[ 0  0  0  0  5 42 10]]\n",
      "[4]\n",
      "Word to\n",
      "Index 4\n",
      "2\n",
      "[5, 42, 10, 4]\n",
      "[[ 0  0  0  5 42 10  4]]\n",
      "[3]\n",
      "Word mittens\n",
      "Index 3\n"
     ]
    }
   ],
   "source": [
    "text = generate_text(\"we naughty\", 3, max_len, model)"
   ]
  },
  {
   "cell_type": "code",
   "execution_count": 107,
   "metadata": {},
   "outputs": [
    {
     "name": "stdout",
     "output_type": "stream",
     "text": [
      "we naughty go to mittens\n"
     ]
    }
   ],
   "source": [
    "print(text)"
   ]
  },
  {
   "cell_type": "code",
   "execution_count": 88,
   "metadata": {},
   "outputs": [],
   "source": [
    "X, Y, max_len, total_words = dataset_preparation(data)"
   ]
  },
  {
   "cell_type": "code",
   "execution_count": 96,
   "metadata": {},
   "outputs": [
    {
     "name": "stdout",
     "output_type": "stream",
     "text": [
      "Epoch 1/100\n",
      "48/48 [==============================] - 2s 35ms/step - loss: 3.7621\n",
      "Epoch 2/100\n",
      "48/48 [==============================] - 0s 977us/step - loss: 3.7593\n",
      "Epoch 3/100\n",
      "48/48 [==============================] - 0s 326us/step - loss: 3.7564\n",
      "Epoch 4/100\n",
      "48/48 [==============================] - 0s 326us/step - loss: 3.7535\n",
      "Epoch 5/100\n",
      "48/48 [==============================] - 0s 325us/step - loss: 3.7512\n",
      "Epoch 6/100\n",
      "48/48 [==============================] - 0s 977us/step - loss: 3.7467\n",
      "Epoch 7/100\n",
      "48/48 [==============================] - 0s 651us/step - loss: 3.7446\n",
      "Epoch 8/100\n",
      "48/48 [==============================] - 0s 651us/step - loss: 3.7384\n",
      "Epoch 9/100\n",
      "48/48 [==============================] - 0s 651us/step - loss: 3.7337\n",
      "Epoch 10/100\n",
      "48/48 [==============================] - 0s 651us/step - loss: 3.7262\n",
      "Epoch 11/100\n",
      "48/48 [==============================] - 0s 326us/step - loss: 3.7162\n",
      "Epoch 12/100\n",
      "48/48 [==============================] - 0s 651us/step - loss: 3.7075\n",
      "Epoch 13/100\n",
      "48/48 [==============================] - 0s 977us/step - loss: 3.6919\n",
      "Epoch 14/100\n",
      "48/48 [==============================] - 0s 651us/step - loss: 3.6763\n",
      "Epoch 15/100\n",
      "48/48 [==============================] - 0s 651us/step - loss: 3.6577\n",
      "Epoch 16/100\n",
      "48/48 [==============================] - 0s 651us/step - loss: 3.6275\n",
      "Epoch 17/100\n",
      "48/48 [==============================] - 0s 651us/step - loss: 3.6092\n",
      "Epoch 18/100\n",
      "48/48 [==============================] - 0s 651us/step - loss: 3.5926\n",
      "Epoch 19/100\n",
      "48/48 [==============================] - 0s 651us/step - loss: 3.5814\n",
      "Epoch 20/100\n",
      "48/48 [==============================] - 0s 651us/step - loss: 3.6048\n",
      "Epoch 21/100\n",
      "48/48 [==============================] - 0s 651us/step - loss: 3.6066\n",
      "Epoch 22/100\n",
      "48/48 [==============================] - 0s 977us/step - loss: 3.5607\n",
      "Epoch 23/100\n",
      "48/48 [==============================] - 0s 651us/step - loss: 3.5565\n",
      "Epoch 24/100\n",
      "48/48 [==============================] - 0s 651us/step - loss: 3.5619\n",
      "Epoch 25/100\n",
      "48/48 [==============================] - 0s 977us/step - loss: 3.5522\n",
      "Epoch 26/100\n",
      "48/48 [==============================] - 0s 651us/step - loss: 3.5443\n",
      "Epoch 27/100\n",
      "48/48 [==============================] - 0s 651us/step - loss: 3.5394\n",
      "Epoch 28/100\n",
      "48/48 [==============================] - 0s 651us/step - loss: 3.5303\n",
      "Epoch 29/100\n",
      "48/48 [==============================] - 0s 977us/step - loss: 3.5347\n",
      "Epoch 30/100\n",
      "48/48 [==============================] - 0s 651us/step - loss: 3.5224\n",
      "Epoch 31/100\n",
      "48/48 [==============================] - 0s 651us/step - loss: 3.5220\n",
      "Epoch 32/100\n",
      "48/48 [==============================] - 0s 977us/step - loss: 3.5141\n",
      "Epoch 33/100\n",
      "48/48 [==============================] - 0s 651us/step - loss: 3.5003\n",
      "Epoch 34/100\n",
      "48/48 [==============================] - 0s 651us/step - loss: 3.4896\n",
      "Epoch 35/100\n",
      "48/48 [==============================] - 0s 651us/step - loss: 3.4658\n",
      "Epoch 36/100\n",
      "48/48 [==============================] - 0s 977us/step - loss: 3.4566\n",
      "Epoch 37/100\n",
      "48/48 [==============================] - 0s 651us/step - loss: 3.4265\n",
      "Epoch 38/100\n",
      "48/48 [==============================] - 0s 651us/step - loss: 3.4228\n",
      "Epoch 39/100\n",
      "48/48 [==============================] - 0s 651us/step - loss: 3.4078\n",
      "Epoch 40/100\n",
      "48/48 [==============================] - 0s 651us/step - loss: 3.3568\n",
      "Epoch 41/100\n",
      "48/48 [==============================] - 0s 651us/step - loss: 3.3267\n",
      "Epoch 42/100\n",
      "48/48 [==============================] - 0s 651us/step - loss: 3.2984\n",
      "Epoch 43/100\n",
      "48/48 [==============================] - 0s 977us/step - loss: 3.2335\n",
      "Epoch 44/100\n",
      "48/48 [==============================] - 0s 651us/step - loss: 3.2178\n",
      "Epoch 45/100\n",
      "48/48 [==============================] - 0s 651us/step - loss: 3.1785\n",
      "Epoch 46/100\n",
      "48/48 [==============================] - 0s 651us/step - loss: 3.1520\n",
      "Epoch 47/100\n",
      "48/48 [==============================] - 0s 977us/step - loss: 3.0888\n",
      "Epoch 48/100\n",
      "48/48 [==============================] - 0s 651us/step - loss: 3.0298\n",
      "Epoch 49/100\n",
      "48/48 [==============================] - 0s 977us/step - loss: 3.0016\n",
      "Epoch 50/100\n",
      "48/48 [==============================] - 0s 651us/step - loss: 2.9082\n",
      "Epoch 51/100\n",
      "48/48 [==============================] - 0s 651us/step - loss: 2.8866\n",
      "Epoch 52/100\n",
      "48/48 [==============================] - ETA: 0s - loss: 2.657 - 0s 651us/step - loss: 2.8188\n",
      "Epoch 53/100\n",
      "48/48 [==============================] - 0s 651us/step - loss: 2.8078\n",
      "Epoch 54/100\n",
      "48/48 [==============================] - 0s 651us/step - loss: 2.7403\n",
      "Epoch 55/100\n",
      "48/48 [==============================] - 0s 651us/step - loss: 2.6997\n",
      "Epoch 56/100\n",
      "48/48 [==============================] - 0s 977us/step - loss: 2.6553\n",
      "Epoch 57/100\n",
      "48/48 [==============================] - 0s 977us/step - loss: 2.6424\n",
      "Epoch 58/100\n",
      "48/48 [==============================] - 0s 651us/step - loss: 2.5522\n",
      "Epoch 59/100\n",
      "48/48 [==============================] - 0s 651us/step - loss: 2.5545\n",
      "Epoch 60/100\n",
      "48/48 [==============================] - 0s 651us/step - loss: 2.5111\n",
      "Epoch 61/100\n",
      "48/48 [==============================] - 0s 651us/step - loss: 2.5092\n",
      "Epoch 62/100\n",
      "48/48 [==============================] - 0s 818us/step - loss: 2.4388\n",
      "Epoch 63/100\n",
      "48/48 [==============================] - 0s 804us/step - loss: 2.5424\n",
      "Epoch 64/100\n",
      "48/48 [==============================] - 0s 667us/step - loss: 2.4569\n",
      "Epoch 65/100\n",
      "48/48 [==============================] - 0s 702us/step - loss: 2.3363\n",
      "Epoch 66/100\n",
      "48/48 [==============================] - 0s 680us/step - loss: 2.3083\n",
      "Epoch 67/100\n",
      "48/48 [==============================] - 0s 433us/step - loss: 2.2672\n",
      "Epoch 68/100\n",
      "48/48 [==============================] - 0s 977us/step - loss: 2.2954\n",
      "Epoch 69/100\n",
      "48/48 [==============================] - 0s 651us/step - loss: 2.2133\n",
      "Epoch 70/100\n",
      "48/48 [==============================] - 0s 651us/step - loss: 2.1895\n",
      "Epoch 71/100\n",
      "48/48 [==============================] - ETA: 0s - loss: 2.137 - 0s 326us/step - loss: 2.1316\n",
      "Epoch 72/100\n",
      "48/48 [==============================] - 0s 651us/step - loss: 2.1482\n",
      "Epoch 73/100\n",
      "48/48 [==============================] - 0s 651us/step - loss: 2.1138\n",
      "Epoch 74/100\n",
      "48/48 [==============================] - 0s 651us/step - loss: 1.9916\n",
      "Epoch 75/100\n",
      "48/48 [==============================] - 0s 651us/step - loss: 2.0109\n",
      "Epoch 76/100\n",
      "48/48 [==============================] - 0s 651us/step - loss: 1.9594\n",
      "Epoch 77/100\n",
      "48/48 [==============================] - 0s 651us/step - loss: 1.9310\n",
      "Epoch 78/100\n",
      "48/48 [==============================] - 0s 651us/step - loss: 1.9011\n",
      "Epoch 79/100\n",
      "48/48 [==============================] - 0s 651us/step - loss: 1.8770\n",
      "Epoch 80/100\n",
      "48/48 [==============================] - 0s 651us/step - loss: 1.9030\n",
      "Epoch 81/100\n",
      "48/48 [==============================] - 0s 651us/step - loss: 1.8131\n",
      "Epoch 82/100\n",
      "48/48 [==============================] - 0s 651us/step - loss: 1.8411\n",
      "Epoch 83/100\n",
      "48/48 [==============================] - 0s 977us/step - loss: 1.8880\n",
      "Epoch 84/100\n",
      "48/48 [==============================] - 0s 651us/step - loss: 1.8047\n",
      "Epoch 85/100\n",
      "48/48 [==============================] - 0s 651us/step - loss: 1.8374\n",
      "Epoch 86/100\n",
      "48/48 [==============================] - 0s 651us/step - loss: 1.7576\n",
      "Epoch 87/100\n",
      "48/48 [==============================] - 0s 326us/step - loss: 1.7273\n",
      "Epoch 88/100\n",
      "48/48 [==============================] - 0s 651us/step - loss: 1.7230\n",
      "Epoch 89/100\n",
      "48/48 [==============================] - 0s 651us/step - loss: 1.6814\n",
      "Epoch 90/100\n",
      "48/48 [==============================] - 0s 651us/step - loss: 1.6504\n",
      "Epoch 91/100\n",
      "48/48 [==============================] - 0s 651us/step - loss: 1.6292\n",
      "Epoch 92/100\n",
      "48/48 [==============================] - 0s 651us/step - loss: 1.6131\n",
      "Epoch 93/100\n",
      "48/48 [==============================] - 0s 651us/step - loss: 1.5774\n",
      "Epoch 94/100\n",
      "48/48 [==============================] - 0s 651us/step - loss: 1.5452\n",
      "Epoch 95/100\n",
      "48/48 [==============================] - 0s 651us/step - loss: 1.5318\n",
      "Epoch 96/100\n",
      "48/48 [==============================] - 0s 651us/step - loss: 1.4947\n",
      "Epoch 97/100\n",
      "48/48 [==============================] - 0s 651us/step - loss: 1.5296\n",
      "Epoch 98/100\n",
      "48/48 [==============================] - 0s 977us/step - loss: 1.4755\n",
      "Epoch 99/100\n",
      "48/48 [==============================] - 0s 651us/step - loss: 1.4625\n",
      "Epoch 100/100\n",
      "48/48 [==============================] - 0s 977us/step - loss: 1.4790\n"
     ]
    }
   ],
   "source": [
    "model = create_model(X, Y, max_len, total_words)"
   ]
  },
  {
   "cell_type": "code",
   "execution_count": 97,
   "metadata": {},
   "outputs": [
    {
     "data": {
      "text/plain": [
       "<keras.engine.sequential.Sequential at 0x2a4d1a81a20>"
      ]
     },
     "execution_count": 97,
     "metadata": {},
     "output_type": "execute_result"
    }
   ],
   "source": [
    "model"
   ]
  },
  {
   "cell_type": "code",
   "execution_count": null,
   "metadata": {},
   "outputs": [],
   "source": [
    "genera"
   ]
  }
 ],
 "metadata": {
  "kernelspec": {
   "display_name": "Python 3",
   "language": "python",
   "name": "python3"
  },
  "language_info": {
   "codemirror_mode": {
    "name": "ipython",
    "version": 3
   },
   "file_extension": ".py",
   "mimetype": "text/x-python",
   "name": "python",
   "nbconvert_exporter": "python",
   "pygments_lexer": "ipython3",
   "version": "3.6.7"
  }
 },
 "nbformat": 4,
 "nbformat_minor": 2
}
